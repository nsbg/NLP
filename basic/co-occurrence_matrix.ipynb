{
 "cells": [
  {
   "cell_type": "code",
   "execution_count": 1,
   "id": "00f92cc0",
   "metadata": {},
   "outputs": [],
   "source": [
    "# 문장 선언 및 간단한 전처리\n",
    "sentence = 'a hundred bad days made a hundred good stories.'.replace('.', ' .').split()"
   ]
  },
  {
   "cell_type": "code",
   "execution_count": 2,
   "id": "7ee94d3b",
   "metadata": {},
   "outputs": [],
   "source": [
    "sorted_sentence = []\n",
    "\n",
    "for s in sentence:\n",
    "    if s not in sorted_sentence:\n",
    "        sorted_sentence.append(s)"
   ]
  },
  {
   "cell_type": "code",
   "execution_count": 3,
   "id": "c1c34bfd",
   "metadata": {},
   "outputs": [
    {
     "data": {
      "text/plain": [
       "['a', 'hundred', 'bad', 'days', 'made', 'good', 'stories', '.']"
      ]
     },
     "execution_count": 3,
     "metadata": {},
     "output_type": "execute_result"
    }
   ],
   "source": [
    "sorted_sentence"
   ]
  },
  {
   "cell_type": "code",
   "execution_count": 4,
   "id": "bfb7ea68",
   "metadata": {},
   "outputs": [],
   "source": [
    "# 현재 단어 주변 단어 중 몇 개의 단어를 볼 것인지 지정\n",
    "WINDOW_SIZE = 1"
   ]
  },
  {
   "cell_type": "code",
   "execution_count": 5,
   "id": "08432219",
   "metadata": {},
   "outputs": [],
   "source": [
    "# 동시 출현 행렬\n",
    "cooccurrence_mat = []"
   ]
  },
  {
   "cell_type": "code",
   "execution_count": 6,
   "id": "ba18a84f",
   "metadata": {},
   "outputs": [
    {
     "data": {
      "text/plain": [
       "{'a': ['hundred'],\n",
       " 'hundred': ['a', 'bad'],\n",
       " 'bad': ['hundred', 'days'],\n",
       " 'days': ['bad', 'made'],\n",
       " 'made': ['days', 'good'],\n",
       " 'good': ['made', 'stories'],\n",
       " 'stories': ['good', '.'],\n",
       " '.': ['stories']}"
      ]
     },
     "execution_count": 6,
     "metadata": {},
     "output_type": "execute_result"
    }
   ],
   "source": [
    "near_word = []\n",
    "\n",
    "for i in range(len(sorted_sentence)):\n",
    "    if i==0:\n",
    "        check = [sorted_sentence[i+WINDOW_SIZE]]\n",
    "    elif i==len(sorted_sentence)-1:\n",
    "        check = [sorted_sentence[i-WINDOW_SIZE]]\n",
    "    else:\n",
    "        check = [sorted_sentence[i-WINDOW_SIZE], sorted_sentence[i+WINDOW_SIZE]]\n",
    "    \n",
    "    near_word.append(check)\n",
    "    \n",
    "# 'hundred': ['a', 'bad'] \n",
    "window_size_dict = {k: v for k, v in zip(sorted_sentence, near_word)}\n",
    "window_size_dict"
   ]
  },
  {
   "cell_type": "code",
   "execution_count": 7,
   "id": "cd448294",
   "metadata": {},
   "outputs": [
    {
     "name": "stdout",
     "output_type": "stream",
     "text": [
      "{'a': 0, 'hundred': 1, 'bad': 0, 'days': 0, 'made': 0, 'good': 0, 'stories': 0, '.': 0}\n",
      "{'a': 1, 'hundred': 0, 'bad': 1, 'days': 0, 'made': 0, 'good': 0, 'stories': 0, '.': 0}\n",
      "{'a': 0, 'hundred': 1, 'bad': 0, 'days': 1, 'made': 0, 'good': 0, 'stories': 0, '.': 0}\n",
      "{'a': 0, 'hundred': 0, 'bad': 1, 'days': 0, 'made': 1, 'good': 0, 'stories': 0, '.': 0}\n",
      "{'a': 0, 'hundred': 0, 'bad': 0, 'days': 1, 'made': 0, 'good': 1, 'stories': 0, '.': 0}\n",
      "{'a': 0, 'hundred': 0, 'bad': 0, 'days': 0, 'made': 1, 'good': 0, 'stories': 1, '.': 0}\n",
      "{'a': 0, 'hundred': 0, 'bad': 0, 'days': 0, 'made': 0, 'good': 1, 'stories': 0, '.': 1}\n",
      "{'a': 0, 'hundred': 0, 'bad': 0, 'days': 0, 'made': 0, 'good': 0, 'stories': 1, '.': 0}\n"
     ]
    }
   ],
   "source": [
    "for value in window_size_dict.values():\n",
    "    count_dict = {k: 0 for k in sorted_sentence}\n",
    "    \n",
    "    for v in value:\n",
    "        count_dict[v] += 1\n",
    "    \n",
    "    print(count_dict)\n",
    "    cooccurrence_mat.append(list(count_dict.values()))"
   ]
  },
  {
   "cell_type": "code",
   "execution_count": 8,
   "id": "d6cb687a",
   "metadata": {},
   "outputs": [
    {
     "data": {
      "text/plain": [
       "[[0, 1, 0, 0, 0, 0, 0, 0],\n",
       " [1, 0, 1, 0, 0, 0, 0, 0],\n",
       " [0, 1, 0, 1, 0, 0, 0, 0],\n",
       " [0, 0, 1, 0, 1, 0, 0, 0],\n",
       " [0, 0, 0, 1, 0, 1, 0, 0],\n",
       " [0, 0, 0, 0, 1, 0, 1, 0],\n",
       " [0, 0, 0, 0, 0, 1, 0, 1],\n",
       " [0, 0, 0, 0, 0, 0, 1, 0]]"
      ]
     },
     "execution_count": 8,
     "metadata": {},
     "output_type": "execute_result"
    }
   ],
   "source": [
    "cooccurrence_mat"
   ]
  }
 ],
 "metadata": {
  "kernelspec": {
   "display_name": "Python 3",
   "language": "python",
   "name": "python3"
  },
  "language_info": {
   "codemirror_mode": {
    "name": "ipython",
    "version": 3
   },
   "file_extension": ".py",
   "mimetype": "text/x-python",
   "name": "python",
   "nbconvert_exporter": "python",
   "pygments_lexer": "ipython3",
   "version": "3.8.8"
  }
 },
 "nbformat": 4,
 "nbformat_minor": 5
}
