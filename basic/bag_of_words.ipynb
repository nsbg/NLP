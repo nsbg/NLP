{
 "cells": [
  {
   "cell_type": "code",
   "execution_count": 1,
   "id": "727df0d8",
   "metadata": {},
   "outputs": [],
   "source": [
    "import numpy as np"
   ]
  },
  {
   "cell_type": "code",
   "execution_count": 2,
   "id": "b5f636b7",
   "metadata": {},
   "outputs": [],
   "source": [
    "docs = [\"It was the best of times\", \"It was the worst of times\", \"It was the age of wisdom\", \"It was the age of foolishness\"]"
   ]
  },
  {
   "cell_type": "markdown",
   "id": "d9ca4994",
   "metadata": {},
   "source": [
    "### 직접 구현"
   ]
  },
  {
   "cell_type": "code",
   "execution_count": 3,
   "id": "4bedf7b8",
   "metadata": {},
   "outputs": [
    {
     "data": {
      "text/plain": [
       "['It',\n",
       " 'was',\n",
       " 'the',\n",
       " 'best',\n",
       " 'of',\n",
       " 'times',\n",
       " 'worst',\n",
       " 'age',\n",
       " 'wisdom',\n",
       " 'foolishness']"
      ]
     },
     "execution_count": 3,
     "metadata": {},
     "output_type": "execute_result"
    }
   ],
   "source": [
    "# 단어 사전 생성\n",
    "word_dict = []\n",
    "\n",
    "for sentences in docs:\n",
    "    word_list = sentences.split()\n",
    "    \n",
    "    for word in word_list:\n",
    "        if word not in word_dict:\n",
    "            word_dict.append(word)\n",
    "\n",
    "word_dict"
   ]
  },
  {
   "cell_type": "code",
   "execution_count": 4,
   "id": "7fe15acb",
   "metadata": {},
   "outputs": [],
   "source": [
    "sentences_vector = []\n",
    "\n",
    "for sentences in docs:\n",
    "    word_count = {key: 0 for key in word_dict}\n",
    "    \n",
    "    for i in word_dict:\n",
    "        word_count[i] = sentences.count(i)\n",
    "\n",
    "    sentences_vector.append(list(word_count.values()))"
   ]
  },
  {
   "cell_type": "code",
   "execution_count": 5,
   "id": "b422da2e",
   "metadata": {
    "scrolled": false
   },
   "outputs": [
    {
     "data": {
      "text/plain": [
       "[[1, 1, 1, 1, 1, 1, 0, 0, 0, 0],\n",
       " [1, 1, 1, 0, 1, 1, 1, 0, 0, 0],\n",
       " [1, 1, 1, 0, 1, 0, 0, 1, 1, 0],\n",
       " [1, 1, 1, 0, 1, 0, 0, 1, 0, 1]]"
      ]
     },
     "execution_count": 5,
     "metadata": {},
     "output_type": "execute_result"
    }
   ],
   "source": [
    "sentences_vector"
   ]
  },
  {
   "cell_type": "markdown",
   "id": "182bb3a6",
   "metadata": {},
   "source": [
    "### CountVectorizer() 사용"
   ]
  },
  {
   "cell_type": "code",
   "execution_count": 6,
   "id": "42e18119",
   "metadata": {},
   "outputs": [],
   "source": [
    "from sklearn.feature_extraction.text import CountVectorizer"
   ]
  },
  {
   "cell_type": "code",
   "execution_count": 7,
   "id": "4def0c48",
   "metadata": {},
   "outputs": [],
   "source": [
    "count_vectorizer = CountVectorizer()"
   ]
  },
  {
   "cell_type": "code",
   "execution_count": 8,
   "id": "be7a3426",
   "metadata": {},
   "outputs": [
    {
     "data": {
      "text/plain": [
       "CountVectorizer()"
      ]
     },
     "execution_count": 8,
     "metadata": {},
     "output_type": "execute_result"
    }
   ],
   "source": [
    "count_vectorizer.fit(docs)"
   ]
  },
  {
   "cell_type": "code",
   "execution_count": 9,
   "id": "886374f0",
   "metadata": {},
   "outputs": [],
   "source": [
    "bow = count_vectorizer.transform(docs)"
   ]
  },
  {
   "cell_type": "code",
   "execution_count": 10,
   "id": "1756d2d1",
   "metadata": {},
   "outputs": [
    {
     "name": "stdout",
     "output_type": "stream",
     "text": [
      "[[0 1 0 1 1 1 1 1 0 0]\n",
      " [0 0 0 1 1 1 1 1 0 1]\n",
      " [1 0 0 1 1 1 0 1 1 0]\n",
      " [1 0 1 1 1 1 0 1 0 0]]\n"
     ]
    }
   ],
   "source": [
    "print(bow.toarray())"
   ]
  },
  {
   "cell_type": "code",
   "execution_count": 11,
   "id": "eee9c960",
   "metadata": {},
   "outputs": [
    {
     "name": "stdout",
     "output_type": "stream",
     "text": [
      "(4, 10)\n"
     ]
    }
   ],
   "source": [
    "# (문장, 단어 수)\n",
    "print(bow.shape)"
   ]
  }
 ],
 "metadata": {
  "kernelspec": {
   "display_name": "Python 3",
   "language": "python",
   "name": "python3"
  },
  "language_info": {
   "codemirror_mode": {
    "name": "ipython",
    "version": 3
   },
   "file_extension": ".py",
   "mimetype": "text/x-python",
   "name": "python",
   "nbconvert_exporter": "python",
   "pygments_lexer": "ipython3",
   "version": "3.8.8"
  }
 },
 "nbformat": 4,
 "nbformat_minor": 5
}
