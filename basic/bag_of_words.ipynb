{
 "cells": [
  {
   "cell_type": "code",
   "execution_count": 1,
   "id": "21ca2b18",
   "metadata": {},
   "outputs": [],
   "source": [
    "import numpy as np"
   ]
  },
  {
   "cell_type": "code",
   "execution_count": 7,
   "id": "d2c86f04",
   "metadata": {},
   "outputs": [],
   "source": [
    "docs = [\"It was the best of times\", \"It was the worst of times\", \"It was the age of wisdom\", \"It was the age of foolishness\"]"
   ]
  },
  {
   "cell_type": "markdown",
   "id": "8f13b027",
   "metadata": {},
   "source": [
    "### 직접 구현"
   ]
  },
  {
   "cell_type": "code",
   "execution_count": 16,
   "id": "bc04c7bb",
   "metadata": {},
   "outputs": [
    {
     "data": {
      "text/plain": [
       "['It',\n",
       " 'was',\n",
       " 'the',\n",
       " 'best',\n",
       " 'of',\n",
       " 'times',\n",
       " 'worst',\n",
       " 'age',\n",
       " 'wisdom',\n",
       " 'foolishness']"
      ]
     },
     "execution_count": 16,
     "metadata": {},
     "output_type": "execute_result"
    }
   ],
   "source": [
    "# 단어 사전 생성\n",
    "word_dict = []\n",
    "\n",
    "for sentences in docs:\n",
    "    word_list = sentences.split()\n",
    "    \n",
    "    for word in word_list:\n",
    "        if word not in word_dict:\n",
    "            word_dict.append(word)\n",
    "\n",
    "word_dict"
   ]
  },
  {
   "cell_type": "code",
   "execution_count": 38,
   "id": "2bfbefc3",
   "metadata": {},
   "outputs": [],
   "source": [
    "sentences_vector = []\n",
    "\n",
    "for sentences in docs:\n",
    "    word_count = {key: 0 for key in word_dict}\n",
    "    \n",
    "    for i in word_dict:\n",
    "        word_count[i] = sentences.count(i)\n",
    "\n",
    "    sentences_vector.append(list(word_count.values()))"
   ]
  },
  {
   "cell_type": "code",
   "execution_count": 39,
   "id": "dee018ac",
   "metadata": {
    "scrolled": false
   },
   "outputs": [
    {
     "data": {
      "text/plain": [
       "[[1, 1, 1, 1, 1, 1, 0, 0, 0, 0],\n",
       " [1, 1, 1, 0, 1, 1, 1, 0, 0, 0],\n",
       " [1, 1, 1, 0, 1, 0, 0, 1, 1, 0],\n",
       " [1, 1, 1, 0, 1, 0, 0, 1, 0, 1]]"
      ]
     },
     "execution_count": 39,
     "metadata": {},
     "output_type": "execute_result"
    }
   ],
   "source": [
    "sentences_vector"
   ]
  },
  {
   "cell_type": "markdown",
   "id": "202c49b0",
   "metadata": {},
   "source": [
    "### CountVectorizer() 사용"
   ]
  },
  {
   "cell_type": "code",
   "execution_count": 41,
   "id": "8dc19ae2",
   "metadata": {},
   "outputs": [],
   "source": [
    "from sklearn.feature_extraction.text import CountVectorizer"
   ]
  },
  {
   "cell_type": "code",
   "execution_count": 42,
   "id": "f9a771a5",
   "metadata": {},
   "outputs": [],
   "source": [
    "count_vectorizer = CountVectorizer()"
   ]
  },
  {
   "cell_type": "code",
   "execution_count": 43,
   "id": "6ce9c17d",
   "metadata": {},
   "outputs": [
    {
     "data": {
      "text/plain": [
       "CountVectorizer()"
      ]
     },
     "execution_count": 43,
     "metadata": {},
     "output_type": "execute_result"
    }
   ],
   "source": [
    "count_vectorizer.fit(docs)"
   ]
  },
  {
   "cell_type": "code",
   "execution_count": 55,
   "id": "d29364ab",
   "metadata": {},
   "outputs": [],
   "source": [
    "bow = count_vectorizer.transform(docs)"
   ]
  },
  {
   "cell_type": "code",
   "execution_count": 57,
   "id": "a74b24fe",
   "metadata": {},
   "outputs": [
    {
     "name": "stdout",
     "output_type": "stream",
     "text": [
      "  (0, 3)\t1\n",
      "  (0, 7)\t1\n",
      "  (0, 5)\t1\n",
      "  (0, 1)\t1\n",
      "  (0, 4)\t1\n",
      "  (0, 6)\t1\n",
      "  (1, 3)\t1\n",
      "  (1, 7)\t1\n",
      "  (1, 5)\t1\n",
      "  (1, 4)\t1\n",
      "  (1, 6)\t1\n",
      "  (1, 9)\t1\n",
      "  (2, 3)\t1\n",
      "  (2, 7)\t1\n",
      "  (2, 5)\t1\n",
      "  (2, 4)\t1\n",
      "  (2, 0)\t1\n",
      "  (2, 8)\t1\n",
      "  (3, 3)\t1\n",
      "  (3, 7)\t1\n",
      "  (3, 5)\t1\n",
      "  (3, 4)\t1\n",
      "  (3, 0)\t1\n",
      "  (3, 2)\t1\n"
     ]
    }
   ],
   "source": [
    "print(bow.toarray())"
   ]
  },
  {
   "cell_type": "code",
   "execution_count": 54,
   "id": "f709e85f",
   "metadata": {},
   "outputs": [
    {
     "name": "stdout",
     "output_type": "stream",
     "text": [
      "(4, 10)\n"
     ]
    }
   ],
   "source": [
    "# (문장, 단어 수)\n",
    "print(bow.shape)"
   ]
  }
 ],
 "metadata": {
  "kernelspec": {
   "display_name": "Python 3",
   "language": "python",
   "name": "python3"
  },
  "language_info": {
   "codemirror_mode": {
    "name": "ipython",
    "version": 3
   },
   "file_extension": ".py",
   "mimetype": "text/x-python",
   "name": "python",
   "nbconvert_exporter": "python",
   "pygments_lexer": "ipython3",
   "version": "3.8.8"
  }
 },
 "nbformat": 4,
 "nbformat_minor": 5
}
