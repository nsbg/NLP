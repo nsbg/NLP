{
 "cells": [
  {
   "cell_type": "code",
   "execution_count": 1,
   "id": "0883f9f1",
   "metadata": {},
   "outputs": [],
   "source": [
    "from konlpy.tag import Okt\n",
    "from nltk.tokenize import sent_tokenize, word_tokenize"
   ]
  },
  {
   "cell_type": "code",
   "execution_count": 2,
   "id": "3276a934",
   "metadata": {},
   "outputs": [],
   "source": [
    "okt = Okt()"
   ]
  },
  {
   "cell_type": "code",
   "execution_count": 3,
   "id": "db628491",
   "metadata": {},
   "outputs": [],
   "source": [
    "paragraph = '이유 모를 감정의 풍요, 그는 끝내 마침표를 채워 넣었다. 그리고 그는 홀로이 못다 한 이야기들을 비운다. 하지만 그의 이야기의 주인공은 여전히 그녀이다. 나는 이걸 낭만이라고 부르기로 하였다.'"
   ]
  },
  {
   "cell_type": "markdown",
   "id": "365480a1",
   "metadata": {},
   "source": [
    "### 문장 단위 토큰화"
   ]
  },
  {
   "cell_type": "code",
   "execution_count": 4,
   "id": "0d81a993",
   "metadata": {},
   "outputs": [
    {
     "data": {
      "text/plain": [
       "['이유 모를 감정의 풍요, 그는 끝내 마침표를 채워 넣었다.',\n",
       " '그리고 그는 홀로이 못다 한 이야기들을 비운다.',\n",
       " '하지만 그의 이야기의 주인공은 여전히 그녀이다.',\n",
       " '나는 이걸 낭만이라고 부르기로 하였다.']"
      ]
     },
     "execution_count": 4,
     "metadata": {},
     "output_type": "execute_result"
    }
   ],
   "source": [
    "sentences = sent_tokenize(paragraph)\n",
    "sentences"
   ]
  },
  {
   "cell_type": "markdown",
   "id": "d5009306",
   "metadata": {},
   "source": [
    "### 단어 단위 토큰화"
   ]
  },
  {
   "cell_type": "code",
   "execution_count": 5,
   "id": "3a22a216",
   "metadata": {},
   "outputs": [
    {
     "data": {
      "text/plain": [
       "['이유',\n",
       " '모를',\n",
       " '감정의',\n",
       " '풍요',\n",
       " ',',\n",
       " '그는',\n",
       " '끝내',\n",
       " '마침표를',\n",
       " '채워',\n",
       " '넣었다',\n",
       " '.',\n",
       " '그리고',\n",
       " '그는',\n",
       " '홀로이',\n",
       " '못다',\n",
       " '한',\n",
       " '이야기들을',\n",
       " '비운다',\n",
       " '.',\n",
       " '하지만',\n",
       " '그의',\n",
       " '이야기의',\n",
       " '주인공은',\n",
       " '여전히',\n",
       " '그녀이다',\n",
       " '.',\n",
       " '나는',\n",
       " '이걸',\n",
       " '낭만이라고',\n",
       " '부르기로',\n",
       " '하였다',\n",
       " '.']"
      ]
     },
     "execution_count": 5,
     "metadata": {},
     "output_type": "execute_result"
    }
   ],
   "source": [
    "words = word_tokenize(paragraph)\n",
    "words"
   ]
  },
  {
   "cell_type": "markdown",
   "id": "94fb948e",
   "metadata": {},
   "source": [
    "### 형태소 단위 토큰화(한국어만 해당)"
   ]
  },
  {
   "cell_type": "code",
   "execution_count": 6,
   "id": "3a6414a0",
   "metadata": {},
   "outputs": [
    {
     "name": "stdout",
     "output_type": "stream",
     "text": [
      "Okt 형태소 분석 : ['나', '는', '이', '걸', '낭만', '이라고', '부르기로', '하였다', '.']\n",
      "--------------------------------------------------------------------\n",
      "Okt 품사 태깅 : [('나', 'Noun'), ('는', 'Josa'), ('이', 'Determiner'), ('걸', 'Noun'), ('낭만', 'Noun'), ('이라고', 'Josa'), ('부르기로', 'Verb'), ('하였다', 'Verb'), ('.', 'Punctuation')]\n",
      "--------------------------------------------------------------------\n",
      "Okt 명사 추출 : ['나', '걸', '낭만']\n"
     ]
    }
   ],
   "source": [
    "print('Okt 형태소 분석 :',okt.morphs(\"나는 이걸 낭만이라고 부르기로 하였다.\"))\n",
    "print('--------------------------------------------------------------------')\n",
    "print('Okt 품사 태깅 :',okt.pos(\"나는 이걸 낭만이라고 부르기로 하였다.\"))\n",
    "print('--------------------------------------------------------------------')\n",
    "print('Okt 명사 추출 :',okt.nouns(\"나는 이걸 낭만이라고 부르기로 하였다.\"))"
   ]
  }
 ],
 "metadata": {
  "kernelspec": {
   "display_name": "Python 3",
   "language": "python",
   "name": "python3"
  },
  "language_info": {
   "codemirror_mode": {
    "name": "ipython",
    "version": 3
   },
   "file_extension": ".py",
   "mimetype": "text/x-python",
   "name": "python",
   "nbconvert_exporter": "python",
   "pygments_lexer": "ipython3",
   "version": "3.8.8"
  }
 },
 "nbformat": 4,
 "nbformat_minor": 5
}
